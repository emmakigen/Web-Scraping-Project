{
 "cells": [
  {
   "cell_type": "code",
   "execution_count": null,
   "metadata": {},
   "outputs": [],
   "source": [
    "import requests\n",
    "from bs4 import BeautifulSoup\n",
    "import pandas as pd\n",
    "\n",
    "# Scrape the website\n",
    "url = \"https://www.amazon.com/Best-Sellers-Electronics/zgbs/electronics/ref=zg_bs_nav_electronics_1\"\n",
    "response = requests.get(url)\n",
    "soup = BeautifulSoup(response.content, \"html.parser\")\n",
    "\n",
    "# Extract the data\n",
    "products = soup.find_all(\"div\", class_=\"a-section a-spacing-base product-grid\")\n",
    "\n",
    "product_names = []\n",
    "product_prices = []\n",
    "product_reviews = []\n",
    "\n",
    "for product in products:\n",
    "    product_name = product.find(\"h2\", class_=\"product-title\").text\n",
    "    product_price = product.find(\"span\", class_=\"a-price-whole\").text\n",
    "    product_reviews = product.find(\"span\", class_=\"a-size-small a-color-secondary\").text\n",
    "\n",
    "    product_names.append(product_name)\n",
    "    product_prices.append(product_price)\n",
    "    product_reviews.append(product_reviews)\n",
    "\n",
    "# Create a Pandas Dataframe\n",
    "df = pd.DataFrame({\n",
    "    \"Product Name\": product_names,\n",
    "    \"Product Price\": product_prices,\n",
    "    \"Product Reviews\": product_reviews\n",
    "})\n",
    "\n",
    "# Visualize the data\n",
    "df.hist(\"Product Price\")"
   ]
  }
 ],
 "metadata": {
  "kernelspec": {
   "display_name": "Python 3",
   "language": "python",
   "name": "python3"
  },
  "language_info": {
   "codemirror_mode": {
    "name": "ipython",
    "version": 3
   },
   "file_extension": ".py",
   "mimetype": "text/x-python",
   "name": "python",
   "nbconvert_exporter": "python",
   "pygments_lexer": "ipython3",
   "version": "3.11.5"
  },
  "orig_nbformat": 4
 },
 "nbformat": 4,
 "nbformat_minor": 2
}
